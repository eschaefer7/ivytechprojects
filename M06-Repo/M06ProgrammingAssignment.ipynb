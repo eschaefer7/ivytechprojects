{
 "cells": [
  {
   "cell_type": "code",
   "execution_count": 10,
   "metadata": {},
   "outputs": [],
   "source": [
    "# 13.1\n",
    "from datetime import date\n",
    "fout = open('today.txt', 'wt')\n",
    "todayout = date.today()\n",
    "print(todayout.isoformat(), file=fout, end='')\n",
    "fout.close()"
   ]
  },
  {
   "cell_type": "code",
   "execution_count": 11,
   "metadata": {},
   "outputs": [
    {
     "name": "stdout",
     "output_type": "stream",
     "text": [
      "2024-02-17\n"
     ]
    }
   ],
   "source": [
    "# 13.2\n",
    "fin = open('today.txt', 'rt')\n",
    "today_string = fin.read()\n",
    "fin.close()\n",
    "print(today_string)"
   ]
  },
  {
   "cell_type": "code",
   "execution_count": 12,
   "metadata": {},
   "outputs": [],
   "source": [
    "# 13.3\n",
    "import time\n",
    "fmt = \"%Y-%m-%d\"\n",
    "fin = open('today.txt', 'rt')\n",
    "today_string = fin.readline()\n",
    "fin.close()\n",
    "testdate = time.strptime(today_string, fmt)"
   ]
  },
  {
   "cell_type": "code",
   "execution_count": 1,
   "metadata": {},
   "outputs": [],
   "source": [
    "# 15.1\n",
    "import multiprocessing\n",
    "import time\n",
    "import random\n",
    "\n",
    "def waittime(timenum):\n",
    "    time.sleep(timenum)\n",
    "    moment = time.time()\n",
    "    # for some reason this does not actually output in notebook;\n",
    "    # most likely some quirk with notebook. the function does work.\n",
    "    print(time.ctime(moment))\n",
    "\n",
    "if __name__ == \"__main__\":\n",
    "    for n in range(3):\n",
    "        t = random.random()\n",
    "        p = multiprocessing.Process(target=waittime, args=(t,))\n",
    "        p.start()"
   ]
  }
 ],
 "metadata": {
  "kernelspec": {
   "display_name": "Python 3",
   "language": "python",
   "name": "python3"
  },
  "language_info": {
   "codemirror_mode": {
    "name": "ipython",
    "version": 3
   },
   "file_extension": ".py",
   "mimetype": "text/x-python",
   "name": "python",
   "nbconvert_exporter": "python",
   "pygments_lexer": "ipython3",
   "version": "3.12.2"
  }
 },
 "nbformat": 4,
 "nbformat_minor": 2
}

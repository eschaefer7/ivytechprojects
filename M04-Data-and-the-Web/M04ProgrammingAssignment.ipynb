{
 "cells": [
  {
   "cell_type": "code",
   "execution_count": 1,
   "metadata": {},
   "outputs": [
    {
     "name": "stdout",
     "output_type": "stream",
     "text": [
      "Open 9-5 daily\n"
     ]
    }
   ],
   "source": [
    "# 11.1\n",
    "import zoo\n",
    "zoo.hours()"
   ]
  },
  {
   "cell_type": "code",
   "execution_count": 2,
   "metadata": {},
   "outputs": [
    {
     "name": "stdout",
     "output_type": "stream",
     "text": [
      "Open 9-5 daily\n"
     ]
    }
   ],
   "source": [
    "# 11.2\n",
    "import zoo as menagerie\n",
    "menagerie.hours()"
   ]
  },
  {
   "cell_type": "code",
   "execution_count": 1,
   "metadata": {},
   "outputs": [
    {
     "name": "stdout",
     "output_type": "stream",
     "text": [
      "[('Perdido Street Station', 'China Miéville', 2000),\n",
      " ('Small Gods', 'Terry Pratchett', 1992),\n",
      " ('The Spellman Files', 'Lisa Lutz', 2007),\n",
      " ('The Weirdstone of Brisingamen', 'Alan Garner', 1960),\n",
      " ('Thud!', 'Terry Pratchett', 2005)]\n"
     ]
    }
   ],
   "source": [
    "# 16.8\n",
    "import csv\n",
    "import sqlalchemy as sa\n",
    "import pprint\n",
    "# did the file reading method to get data\n",
    "with open('books2.csv', 'rt') as filein:\n",
    "    cin = csv.DictReader(filein)\n",
    "    readbooks = [row for row in cin]\n",
    "\n",
    "# create the db engine\n",
    "saconn = sa.create_engine('sqlite:///books.db')\n",
    "\n",
    "# set up the table to be used\n",
    "meta = sa.MetaData()\n",
    "books = sa.Table('books', meta,\n",
    "        sa.Column('title', sa.String),\n",
    "        sa.Column('author', sa.String),\n",
    "        sa.Column('year', sa.Integer)\n",
    "        )\n",
    "meta.create_all(saconn)\n",
    "\n",
    "# connect to table, insert the data\n",
    "with saconn.connect() as conn:\n",
    "    conn.execute(books.insert(), readbooks)\n",
    "    # select books from table and sort alphabetically\n",
    "    result = conn.execute(books.select().order_by('title'))\n",
    "    rows = result.fetchall()\n",
    "    # print the rows nicely\n",
    "    pprint.pprint(rows)"
   ]
  }
 ],
 "metadata": {
  "kernelspec": {
   "display_name": "Python 3",
   "language": "python",
   "name": "python3"
  },
  "language_info": {
   "codemirror_mode": {
    "name": "ipython",
    "version": 3
   },
   "file_extension": ".py",
   "mimetype": "text/x-python",
   "name": "python",
   "nbconvert_exporter": "python",
   "pygments_lexer": "ipython3",
   "version": "3.12.1"
  }
 },
 "nbformat": 4,
 "nbformat_minor": 2
}

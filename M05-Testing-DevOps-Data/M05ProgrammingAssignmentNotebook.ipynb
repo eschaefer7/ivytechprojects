{
 "cells": [
  {
   "cell_type": "code",
   "execution_count": null,
   "metadata": {},
   "outputs": [],
   "source": [
    "# the test results just let us know whether or not functions or other code behave as expected.\n",
    "# putting the optional print string after a test assertion lets us know what should have happened\n",
    "# which lets us know which tests failed so we can go look at the code pertaining to it"
   ]
  }
 ],
 "metadata": {
  "language_info": {
   "name": "python"
  }
 },
 "nbformat": 4,
 "nbformat_minor": 2
}

{
 "cells": [
  {
   "cell_type": "code",
   "execution_count": 7,
   "metadata": {},
   "outputs": [],
   "source": [
    "# 7.4\n",
    "things = ['mozzarella', 'cinderella', 'salmonella']\n"
   ]
  },
  {
   "cell_type": "code",
   "execution_count": 6,
   "metadata": {},
   "outputs": [
    {
     "name": "stdout",
     "output_type": "stream",
     "text": [
      "item in list: cinderella\n",
      "updated item in list: Cinderella\n"
     ]
    }
   ],
   "source": [
    "# 7.5\n",
    "things = ['mozzarella', 'cinderella', 'salmonella']\n",
    "things[1].capitalize()\n",
    "print('item in list:', things[1])\n",
    "# the string itself may be immutable, but the element can be changed in the list\n",
    "things[1] = things[1].capitalize()\n",
    "print('updated item in list:', things[1])\n"
   ]
  },
  {
   "cell_type": "code",
   "execution_count": 2,
   "metadata": {},
   "outputs": [
    {
     "name": "stdout",
     "output_type": "stream",
     "text": [
      "item in list: mozzarella\n",
      "updated item in list: MOZZARELLA\n"
     ]
    }
   ],
   "source": [
    "# 7.6\n",
    "things = ['mozzarella', 'cinderella', 'salmonella']\n",
    "things[0].upper()\n",
    "print('item in list:', things[0])\n",
    "# the string itself may be immutable, but the element can be changed in the list\n",
    "things[0] = things[0].upper()\n",
    "print('updated item in list:', things[0])\n"
   ]
  },
  {
   "cell_type": "code",
   "execution_count": 3,
   "metadata": {},
   "outputs": [
    {
     "name": "stdout",
     "output_type": "stream",
     "text": [
      "['mozzarella', 'cinderella', 'salmonella']\n",
      "['mozzarella', 'cinderella']\n"
     ]
    }
   ],
   "source": [
    "# 7.7\n",
    "things = ['mozzarella', 'cinderella', 'salmonella']\n",
    "print(things)\n",
    "things.remove('salmonella')\n",
    "print(things)"
   ]
  },
  {
   "cell_type": "code",
   "execution_count": 4,
   "metadata": {},
   "outputs": [
    {
     "name": "stdout",
     "output_type": "stream",
     "text": [
      "['Harry', 'Ron', 'Hermione']\n"
     ]
    }
   ],
   "source": [
    "# 9.1\n",
    "def good():\n",
    "    return ['Harry', 'Ron', 'Hermione']\n",
    "print(good())"
   ]
  },
  {
   "cell_type": "code",
   "execution_count": 5,
   "metadata": {},
   "outputs": [
    {
     "name": "stdout",
     "output_type": "stream",
     "text": [
      "5\n"
     ]
    }
   ],
   "source": [
    "# 9.2\n",
    "def odds_range(first=0, last=10, step=1):\n",
    "    number = first\n",
    "    while number < last:\n",
    "        # only adds odds\n",
    "        if (number % 2) == 1:\n",
    "            yield number\n",
    "        number += step\n",
    "# how to tell where in iteration i am\n",
    "iternum = 0\n",
    "for num in odds_range():\n",
    "    # if looking at the third element, print it\n",
    "    if iternum == 2:\n",
    "        print(num)\n",
    "    # increment \"index\" to continue\n",
    "    iternum += 1"
   ]
  }
 ],
 "metadata": {
  "kernelspec": {
   "display_name": "\"Python/Mu (mu_venv-38-20230630-104014)\"",
   "language": "python",
   "name": "mu_venv-38-20230630-104014"
  },
  "language_info": {
   "codemirror_mode": {
    "name": "ipython",
    "version": 3
   },
   "file_extension": ".py",
   "mimetype": "text/x-python",
   "name": "python",
   "nbconvert_exporter": "python",
   "pygments_lexer": "ipython3",
   "version": "3.8.12"
  }
 },
 "nbformat": 4,
 "nbformat_minor": 2
}

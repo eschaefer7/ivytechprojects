{
 "cells": [
  {
   "cell_type": "code",
   "execution_count": 5,
   "metadata": {},
   "outputs": [
    {
     "name": "stdout",
     "output_type": "stream",
     "text": [
      "[0, 0, 1, 2, 2]\n",
      "[0, 0, 1]\n"
     ]
    }
   ],
   "source": [
    "# sorting lists\n",
    "class Solution:\n",
    "    def sort012(self,arr,n):\n",
    "        # code here\n",
    "        # i just tried a sort method to see if one existed, did not expect it to work\n",
    "        return arr.sort()\n",
    "# make solution object for demonstration\n",
    "s1 = Solution()\n",
    "# make lists to demonstrate on\n",
    "list1 = [0, 2, 1, 2, 0]\n",
    "list2 = [0, 1, 0]\n",
    "# sort lists\n",
    "s1.sort012(list1, len(list1))\n",
    "s1.sort012(list2, len(list2))\n",
    "# print sorted lists\n",
    "print(list1)\n",
    "print(list2)"
   ]
  },
  {
   "cell_type": "code",
   "execution_count": 7,
   "metadata": {},
   "outputs": [
    {
     "name": "stdout",
     "output_type": "stream",
     "text": [
      "3\n",
      "-1\n"
     ]
    }
   ],
   "source": [
    "# lambda problem\n",
    "# unfortunately I forgot how recursion worked for a bit and ended up looking at the solution\n",
    "# also I was unable to figure out how to do anything with lambdas in this, sorry\n",
    "class Solution:\n",
    "    \n",
    "    def bin_search(self, arr, l, r, key):\n",
    "        if l > r:\n",
    "            return -1\n",
    "        mid = (l + r) // 2\n",
    "\t\t\n",
    "        if arr[mid] == key:\n",
    "            return mid\n",
    "\t\t\n",
    "        elif arr[mid] > key:\n",
    "            return self.bin_search(arr, l, mid - 1, key)\n",
    "\t\t\n",
    "        else:\n",
    "            return self.bin_search(arr, mid + 1, r, key)\n",
    "    \n",
    "    def binarysearch(self, arr, n, k):\n",
    "\t\t# code here\n",
    "        return self.bin_search(arr, 0, n-1, k)\n",
    "# make solution object for demonstration\n",
    "s1 = Solution()\n",
    "# make lists for demonstration\n",
    "list1 = [1, 2, 3, 4, 5]\n",
    "list2 = [11, 22, 33, 44, 55]\n",
    "# print for demonstration\n",
    "print(s1.binarysearch(list1, len(list1), 4))\n",
    "print(s1.binarysearch(list2, len(list2), 445))"
   ]
  }
 ],
 "metadata": {
  "kernelspec": {
   "display_name": "\"Python/Mu (mu_venv-38-20230630-104014)\"",
   "language": "python",
   "name": "mu_venv-38-20230630-104014"
  },
  "language_info": {
   "codemirror_mode": {
    "name": "ipython",
    "version": 3
   },
   "file_extension": ".py",
   "mimetype": "text/x-python",
   "name": "python",
   "nbconvert_exporter": "python",
   "pygments_lexer": "ipython3",
   "version": "3.8.12"
  }
 },
 "nbformat": 4,
 "nbformat_minor": 2
}

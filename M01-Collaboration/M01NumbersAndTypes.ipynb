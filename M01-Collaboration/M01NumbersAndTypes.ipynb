{
 "cells": [
  {
   "cell_type": "code",
   "execution_count": 1,
   "metadata": {},
   "outputs": [
    {
     "data": {
      "text/plain": [
       "3600"
      ]
     },
     "execution_count": 1,
     "metadata": {},
     "output_type": "execute_result"
    }
   ],
   "source": [
    "# 3.1\n",
    "60 * 60\n",
    "# There are 3600 seconds in an hour."
   ]
  },
  {
   "cell_type": "code",
   "execution_count": 2,
   "metadata": {},
   "outputs": [],
   "source": [
    "# 3.2\n",
    "seconds_per_hour = 3600"
   ]
  },
  {
   "cell_type": "code",
   "execution_count": 3,
   "metadata": {},
   "outputs": [
    {
     "data": {
      "text/plain": [
       "86400"
      ]
     },
     "execution_count": 3,
     "metadata": {},
     "output_type": "execute_result"
    }
   ],
   "source": [
    "# 3.3\n",
    "seconds_per_hour = 3600\n",
    "seconds_per_hour * 24\n",
    "# There are 86400 seconds in a day."
   ]
  },
  {
   "cell_type": "code",
   "execution_count": 4,
   "metadata": {},
   "outputs": [],
   "source": [
    "# 3.4\n",
    "seconds_per_hour = 3600\n",
    "seconds_per_day = seconds_per_hour * 24\n",
    "# There are 86400 seconds in a day"
   ]
  },
  {
   "cell_type": "code",
   "execution_count": 5,
   "metadata": {},
   "outputs": [
    {
     "name": "stdout",
     "output_type": "stream",
     "text": [
      "24.0\n"
     ]
    }
   ],
   "source": [
    "# 3.5\n",
    "seconds_per_hour = 3600\n",
    "seconds_per_day = seconds_per_hour * 24\n",
    "print(seconds_per_day / seconds_per_hour)\n",
    "# seconds_per_day divided by seconds_per_hour is 24.0"
   ]
  },
  {
   "cell_type": "code",
   "execution_count": 6,
   "metadata": {},
   "outputs": [
    {
     "name": "stdout",
     "output_type": "stream",
     "text": [
      "24\n"
     ]
    }
   ],
   "source": [
    "# 3.6\n",
    "seconds_per_hour = 3600\n",
    "seconds_per_day = seconds_per_hour * 24\n",
    "print(seconds_per_day // seconds_per_hour)\n",
    "# seconds_per_day divided by seconds_per_hour is 24. This is the same as the previous question."
   ]
  }
 ],
 "metadata": {
  "kernelspec": {
   "display_name": "\"Python/Mu (mu_venv-38-20230630-104223)\"",
   "language": "python",
   "name": "mu_venv-38-20230630-104223"
  },
  "language_info": {
   "codemirror_mode": {
    "name": "ipython",
    "version": 3
   },
   "file_extension": ".py",
   "mimetype": "text/x-python",
   "name": "python",
   "nbconvert_exporter": "python",
   "pygments_lexer": "ipython3",
   "version": "3.8.12"
  }
 },
 "nbformat": 4,
 "nbformat_minor": 2
}
